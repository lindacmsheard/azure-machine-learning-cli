{
 "cells": [
  {
   "cell_type": "code",
   "execution_count": 1,
   "metadata": {},
   "outputs": [],
   "source": [
    "# use azureml38 env"
   ]
  },
  {
   "cell_type": "code",
   "execution_count": 2,
   "metadata": {},
   "outputs": [
    {
     "data": {
      "text/plain": [
       "'/anaconda/envs/azureml_py38/bin/python'"
      ]
     },
     "execution_count": 2,
     "metadata": {},
     "output_type": "execute_result"
    }
   ],
   "source": [
    "import sys\n",
    "sys.executable"
   ]
  },
  {
   "cell_type": "code",
   "execution_count": 3,
   "metadata": {},
   "outputs": [],
   "source": [
    "from azureml.core import Workspace, Environment\n",
    "ws = Workspace.from_config('./config.json')"
   ]
  },
  {
   "cell_type": "code",
   "execution_count": 4,
   "metadata": {},
   "outputs": [],
   "source": [
    "from azureml.core import Datastore\n",
    "\n",
    "datastore = Workspace.get_default_datastore(ws)\n"
   ]
  },
  {
   "cell_type": "code",
   "execution_count": 5,
   "metadata": {},
   "outputs": [
    {
     "data": {
      "text/plain": [
       "'azureml-blobstore-79ef3507-cd97-455c-997e-1d00c529ec09'"
      ]
     },
     "execution_count": 5,
     "metadata": {},
     "output_type": "execute_result"
    }
   ],
   "source": [
    "datastore.credential_type\n",
    "datastore.container_name\n",
    "#datastore.account_key"
   ]
  },
  {
   "cell_type": "code",
   "execution_count": null,
   "metadata": {},
   "outputs": [],
   "source": []
  },
  {
   "cell_type": "code",
   "execution_count": 4,
   "metadata": {},
   "outputs": [
    {
     "name": "stdout",
     "output_type": "stream",
     "text": [
      "Name AzureML-VowpalWabbit-8.8.0\n",
      "Name AzureML-PyTorch-1.3-CPU\n",
      "Name AzureML-Triton\n",
      "Name AzureML-Pytorch1.7-Cuda11-OpenMpi4.1.0-py36\n",
      "Name AzureML-Scikit-learn0.24-Cuda11-OpenMpi4.1.0-py36\n",
      "Name AzureML-TensorFlow2.4-Cuda11-OpenMpi4.1.0-py36\n",
      "Name AzureML-onnxruntime-1.6-ubuntu18.04-py37-cpu-inference\n",
      "Name AzureML-minimal-ubuntu18.04-py37-cpu-inference\n",
      "Name AzureML-mlflow-ubuntu18.04-py37-cpu-inference\n",
      "Name AzureML-tensorflow-2.4-ubuntu18.04-py37-cpu-inference\n",
      "Name AzureML-sklearn-0.24.1-ubuntu18.04-py37-cpu-inference\n",
      "Name AzureML-pytorch-1.7-ubuntu18.04-py37-cpu-inference\n",
      "Name AzureML-sklearn-0.24-ubuntu18.04-py37-cpu\n",
      "Name AzureML-tensorflow-2.4-ubuntu18.04-py37-cuda11.0.3-gpu-inference\n",
      "Name AzureML-lightgbm-3.2-ubuntu18.04-py37-cpu\n",
      "Name AzureML-tensorflow-1.15-ubuntu18.04-py37-cpu-inference\n",
      "Name AzureML-pytorch-1.6-ubuntu18.04-py37-cpu-inference\n",
      "Name AzureML-xgboost-0.9-ubuntu18.04-py37-cpu-inference\n",
      "Name AzureML-tensorflow-2.4-ubuntu18.04-py37-cuda11-gpu\n",
      "Name AzureML-pytorch-1.7-ubuntu18.04-py37-cuda11-gpu\n",
      "Name AzureML-pytorch-1.8-ubuntu18.04-py37-cuda11-gpu\n",
      "Name AzureML-pytorch-1.10-ubuntu18.04-py38-cuda11-gpu\n",
      "Name AzureML-pytorch-1.9-ubuntu18.04-py37-cuda11-gpu\n"
     ]
    }
   ],
   "source": [
    "envs = Environment.list(workspace=ws)\n",
    "\n",
    "for env in envs:\n",
    "    if env.startswith(\"AzureML\"):\n",
    "        print(\"Name\",env)\n",
    "        #print(\"packages\", envs[env].python.conda_dependencies.serialize_to_string())"
   ]
  },
  {
   "cell_type": "code",
   "execution_count": null,
   "metadata": {},
   "outputs": [],
   "source": []
  }
 ],
 "metadata": {
  "interpreter": {
   "hash": "6d65a8c07f5b6469e0fc613f182488c0dccce05038bbda39e5ac9075c0454d11"
  },
  "kernelspec": {
   "display_name": "Python 3.8.1 ('azureml_py38')",
   "language": "python",
   "name": "python3"
  },
  "language_info": {
   "codemirror_mode": {
    "name": "ipython",
    "version": 3
   },
   "file_extension": ".py",
   "mimetype": "text/x-python",
   "name": "python",
   "nbconvert_exporter": "python",
   "pygments_lexer": "ipython3",
   "version": "3.8.1"
  },
  "orig_nbformat": 4
 },
 "nbformat": 4,
 "nbformat_minor": 2
}
